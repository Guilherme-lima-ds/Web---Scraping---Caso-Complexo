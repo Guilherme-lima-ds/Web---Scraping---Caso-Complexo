{
 "cells": [
  {
   "cell_type": "markdown",
   "metadata": {},
   "source": [
    "# Desafio - Rotina de Baixar uma Planilha da Web\n",
    "\n",
    "- Imagine que você trabalhe no Mercado Financeiro e tem que todo dia/semana baixar uma planilha com as cotações do dólar\n",
    "- Usaremos o site investing.com para baixar esses dados\n",
    "- O link onde ficam esses dados é: https://br.investing.com/currencies/usd-brl-historical-data\n",
    "- Escolhemos o site investing.com porque ele é cheio de coisinha chata que vai obrigar a gente a fazer um código completo\n",
    "- Crie uma conta no site antes de começar, é gratuito"
   ]
  },
  {
   "cell_type": "markdown",
   "metadata": {},
   "source": [
    "- Importando as bibliotecas necessarias"
   ]
  },
  {
   "cell_type": "code",
   "execution_count": 1,
   "metadata": {},
   "outputs": [],
   "source": [
    "#importando as bibliotecas necessarias\n",
    "from selenium import webdriver\n",
    "from selenium.webdriver.common.by import By\n",
    "from selenium.webdriver.support.ui import WebDriverWait\n",
    "from selenium.webdriver.support import expected_conditions as EC\n",
    "from time import sleep"
   ]
  },
  {
   "cell_type": "markdown",
   "metadata": {},
   "source": [
    "- Abrindo o navegador e colocando em tela cheia"
   ]
  },
  {
   "cell_type": "code",
   "execution_count": 50,
   "metadata": {},
   "outputs": [],
   "source": [
    "#Abrindo o navegador chrome\n",
    "driver = webdriver.Chrome()\n",
    "#Colocando o endereço de web site que ele vai entrar\n",
    "driver.get('https://br.investing.com/currencies/usd-brl-historical-data')\n",
    "#deixando a tela em tela cheia\n",
    "driver.maximize_window()\n",
    "#fazendo o codigo esperar a pagina carregar.\n",
    "sleep(5)"
   ]
  },
  {
   "cell_type": "markdown",
   "metadata": {},
   "source": [
    "- Aceitando o primeiro poop pip da tela, para isso eu usei um xpath, com um comando diferente, que em sites assim e necessario ser mais especifico."
   ]
  },
  {
   "cell_type": "code",
   "execution_count": 51,
   "metadata": {},
   "outputs": [],
   "source": [
    "#aceitando o primeiro poop pip\n",
    "WebDriverWait(driver,10).until(EC.element_to_be_clickable((By.XPATH,\"//button[contains(text(), 'I Accept')]\"))).click()"
   ]
  },
  {
   "cell_type": "markdown",
   "metadata": {},
   "source": [
    "- Codigo para aceitar o 2 poop pip porem, como ele so aparece quando mexemos o mouse, nao e necessario nesse caso, ja que o mouse nao sera mexido dutante o processo"
   ]
  },
  {
   "cell_type": "code",
   "execution_count": 52,
   "metadata": {},
   "outputs": [],
   "source": [
    "#Apertando no 'X' do segundo poop pop\n",
    "#sleep(10)\n",
    "#driver.execute_script('window.scrollTo(0,5000000);')\n",
    "#sleep(1)\n",
    "#i = driver.find_element_by_xpath('//*[@id=\"PromoteSignUpPopUp\"]/div[2]/i')\n",
    "#i.click()\n",
    "sleep(2)"
   ]
  },
  {
   "cell_type": "markdown",
   "metadata": {},
   "source": [
    "- Apertando o botão de Download"
   ]
  },
  {
   "cell_type": "code",
   "execution_count": 53,
   "metadata": {},
   "outputs": [],
   "source": [
    "#para acessar o botao de download e clickar nele, foi necessario usar o elemnt to be clickable e passar o xpath dele.\n",
    "WebDriverWait(driver, 20).until(EC.element_to_be_clickable((By.XPATH, '//*[@id=\"column-content\"]/div[4]/div/a'))).click()"
   ]
  },
  {
   "cell_type": "markdown",
   "metadata": {},
   "source": [
    "- Quando apertamos o botao de baixar dados e necessario fazer login, pois isso agora vamos pegar e selecionar o loguin com meu css_selector outra forma que aprendi no video do insta, e exelente."
   ]
  },
  {
   "cell_type": "code",
   "execution_count": 54,
   "metadata": {},
   "outputs": [],
   "source": [
    "#Selecionando a celula de usario, para poder colocar meu email\n",
    "user = WebDriverWait(driver, 20).until(EC.element_to_be_clickable((By.CSS_SELECTOR, \"input[name='loginFormUser_email']\")))\n",
    "#Antes eu uso o clear para limpar o que estiver lá e previnir erros\n",
    "user.clear()\n",
    "#deixo faço o codigo esperar por 3 segundos\n",
    "sleep(3)\n",
    "#coloco o email.\n",
    "user.send_keys('Seu email')"
   ]
  },
  {
   "cell_type": "code",
   "execution_count": 55,
   "metadata": {},
   "outputs": [],
   "source": [
    "#Selecionando a celula de passoword, para poder colocar minha senha, aqui eu ja ultilizei o xpath\n",
    "password = Pesquisar = WebDriverWait(driver,10).until(EC.element_to_be_clickable((By.XPATH, \"//input[@placeholder='Senha']\")))\n",
    "#limpanndo\n",
    "password.clear()\n",
    "#fazendo o codigo esperar por 3 segundos\n",
    "sleep(3)\n",
    "#escrevendo minha senha\n",
    "password.send_keys('Sua senha no site')"
   ]
  },
  {
   "cell_type": "code",
   "execution_count": 56,
   "metadata": {},
   "outputs": [],
   "source": [
    "#apertando no botao de login para longar na minha conta.\n",
    "login = WebDriverWait(driver, 20).until(EC.element_to_be_clickable((By.XPATH, '//*[@id=\"signup\"]/a')))\n",
    "#Clickando\n",
    "login.click()\n",
    "#Como a pagina carrega depois de fazer o login, eu faço o codigo esperar por mais 10 segundos.\n",
    "sleep(10)"
   ]
  },
  {
   "cell_type": "code",
   "execution_count": 57,
   "metadata": {},
   "outputs": [],
   "source": [
    "#aperto no botao de baixar dados pela segunda fez, e pronto. codigo executado e missão comprida com sucesso :D\n",
    "Baixar_dados = WebDriverWait(driver, 20).until(EC.element_to_be_clickable((By.XPATH, '//*[@id=\"column-content\"]/div[4]/div/a'))).click()"
   ]
  },
  {
   "cell_type": "code",
   "execution_count": 69,
   "metadata": {},
   "outputs": [],
   "source": [
    "#Codigo Completo\n",
    "#Abrindo o navegador chrome\n",
    "driver = webdriver.Chrome()\n",
    "#Colocando o endereço de web site que ele vai entrar\n",
    "driver.get('https://br.investing.com/currencies/usd-brl-historical-data')\n",
    "#deixando a tela em tela cheia\n",
    "driver.maximize_window()\n",
    "#fazendo o codigo esperar a pagina carregar.\n",
    "sleep(5)\n",
    "#aceitando o primeiro poop pip\n",
    "WebDriverWait(driver,10).until(EC.element_to_be_clickable((By.XPATH,\"//button[contains(text(), 'I Accept')]\"))).click()\n",
    "#fazendo o codigo esperar por 3 segundos\n",
    "sleep(3)\n",
    "driver.execute_script('window.scrollTo(0,300);')\n",
    "#cliclkando no botao de donwload\n",
    "Baixar_dados = WebDriverWait(driver, 20).until(EC.element_to_be_clickable((By.XPATH, '//*[@id=\"column-content\"]/div[4]/div/a'))).click()\n",
    "#Selecionando a celula de usario, para poder colocar meu email\n",
    "user = WebDriverWait(driver, 20).until(EC.element_to_be_clickable((By.CSS_SELECTOR, \"input[name='loginFormUser_email']\")))\n",
    "#Antes eu uso o clear para limpar o que estiver lá e previnir erros\n",
    "user.clear()\n",
    "#deixo faço o codigo esperar por 3 segundos\n",
    "sleep(3)\n",
    "#coloco o email.\n",
    "user.send_keys('Seu email')\n",
    "#Selecionando a celula de passoword, para poder colocar minha senha, aqui eu ja ultilizei o xpath\n",
    "password = Pesquisar = WebDriverWait(driver,10).until(EC.element_to_be_clickable((By.XPATH, \"//input[@placeholder='Senha']\")))\n",
    "#limpanndo\n",
    "password.clear()\n",
    "#fazendo o codigo esperar por 3 segundos\n",
    "sleep(3)\n",
    "#escrevendo minha senha\n",
    "password.send_keys('Sua Senha no site')\n",
    "#apertando no botao de login para longar na minha conta.\n",
    "login = WebDriverWait(driver, 20).until(EC.element_to_be_clickable((By.XPATH, '//*[@id=\"signup\"]/a')))\n",
    "#Clickando\n",
    "login.click()\n",
    "#Como a pagina carrega depois de fazer o login, eu faço o codigo esperar por mais 10 segundos.\n",
    "sleep(10)\n",
    "#apertando no botao de baixar dados pela segunda fez, e pronto. codigo executado e missão comprida com sucesso :D\n",
    "Baixar_dados2 = WebDriverWait(driver, 20).until(EC.element_to_be_clickable((By.XPATH, '//*[@id=\"column-content\"]/div[4]/div/a'))).click()"
   ]
  },
  {
   "cell_type": "code",
   "execution_count": null,
   "metadata": {},
   "outputs": [],
   "source": []
  }
 ],
 "metadata": {
  "kernelspec": {
   "display_name": "Python 3",
   "language": "python",
   "name": "python3"
  },
  "language_info": {
   "codemirror_mode": {
    "name": "ipython",
    "version": 3
   },
   "file_extension": ".py",
   "mimetype": "text/x-python",
   "name": "python",
   "nbconvert_exporter": "python",
   "pygments_lexer": "ipython3",
   "version": "3.8.8"
  }
 },
 "nbformat": 4,
 "nbformat_minor": 4
}
